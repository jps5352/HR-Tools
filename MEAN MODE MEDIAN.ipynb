{
 "cells": [
  {
   "cell_type": "code",
   "execution_count": 1,
   "id": "93c2f4ec",
   "metadata": {},
   "outputs": [],
   "source": [
    "import pandas as pd\n",
    "\n",
    "df = pd.read_excel('MEAN MEDIAN MODE.xlsx')"
   ]
  },
  {
   "cell_type": "code",
   "execution_count": 2,
   "id": "264c42f9",
   "metadata": {},
   "outputs": [
    {
     "data": {
      "text/html": [
       "<div>\n",
       "<style scoped>\n",
       "    .dataframe tbody tr th:only-of-type {\n",
       "        vertical-align: middle;\n",
       "    }\n",
       "\n",
       "    .dataframe tbody tr th {\n",
       "        vertical-align: top;\n",
       "    }\n",
       "\n",
       "    .dataframe thead th {\n",
       "        text-align: right;\n",
       "    }\n",
       "</style>\n",
       "<table border=\"1\" class=\"dataframe\">\n",
       "  <thead>\n",
       "    <tr style=\"text-align: right;\">\n",
       "      <th></th>\n",
       "      <th>age</th>\n",
       "      <th>department</th>\n",
       "      <th>employee_number</th>\n",
       "      <th>gender</th>\n",
       "      <th>job_level</th>\n",
       "      <th>marital_status</th>\n",
       "      <th>over_time</th>\n",
       "      <th>performance_rating</th>\n",
       "      <th>totalW_working_years</th>\n",
       "      <th>training_times_last_year</th>\n",
       "      <th>years_since_last_promotion</th>\n",
       "      <th>years_with_curr_manager</th>\n",
       "      <th>monthly_income</th>\n",
       "      <th>salary_2017</th>\n",
       "      <th>salary_2018</th>\n",
       "      <th>year_of_joining</th>\n",
       "      <th>last_role_change</th>\n",
       "      <th>percent_hike</th>\n",
       "    </tr>\n",
       "  </thead>\n",
       "  <tbody>\n",
       "    <tr>\n",
       "      <th>0</th>\n",
       "      <td>41</td>\n",
       "      <td>Sales</td>\n",
       "      <td>1</td>\n",
       "      <td>Female</td>\n",
       "      <td>2</td>\n",
       "      <td>Single</td>\n",
       "      <td>Yes</td>\n",
       "      <td>3</td>\n",
       "      <td>8</td>\n",
       "      <td>0</td>\n",
       "      <td>0</td>\n",
       "      <td>5</td>\n",
       "      <td>5993</td>\n",
       "      <td>71916</td>\n",
       "      <td>79826.76</td>\n",
       "      <td>2012</td>\n",
       "      <td>2014</td>\n",
       "      <td>11</td>\n",
       "    </tr>\n",
       "    <tr>\n",
       "      <th>1</th>\n",
       "      <td>49</td>\n",
       "      <td>Research &amp; Development</td>\n",
       "      <td>2</td>\n",
       "      <td>Male</td>\n",
       "      <td>2</td>\n",
       "      <td>Married</td>\n",
       "      <td>No</td>\n",
       "      <td>4</td>\n",
       "      <td>10</td>\n",
       "      <td>3</td>\n",
       "      <td>1</td>\n",
       "      <td>7</td>\n",
       "      <td>5130</td>\n",
       "      <td>61560</td>\n",
       "      <td>75718.80</td>\n",
       "      <td>2008</td>\n",
       "      <td>2011</td>\n",
       "      <td>23</td>\n",
       "    </tr>\n",
       "    <tr>\n",
       "      <th>2</th>\n",
       "      <td>37</td>\n",
       "      <td>Research &amp; Development</td>\n",
       "      <td>4</td>\n",
       "      <td>Male</td>\n",
       "      <td>1</td>\n",
       "      <td>Single</td>\n",
       "      <td>Yes</td>\n",
       "      <td>3</td>\n",
       "      <td>7</td>\n",
       "      <td>3</td>\n",
       "      <td>0</td>\n",
       "      <td>0</td>\n",
       "      <td>2090</td>\n",
       "      <td>25080</td>\n",
       "      <td>28842.00</td>\n",
       "      <td>2018</td>\n",
       "      <td>2018</td>\n",
       "      <td>15</td>\n",
       "    </tr>\n",
       "    <tr>\n",
       "      <th>3</th>\n",
       "      <td>33</td>\n",
       "      <td>Research &amp; Development</td>\n",
       "      <td>5</td>\n",
       "      <td>Female</td>\n",
       "      <td>1</td>\n",
       "      <td>Married</td>\n",
       "      <td>Yes</td>\n",
       "      <td>3</td>\n",
       "      <td>8</td>\n",
       "      <td>3</td>\n",
       "      <td>3</td>\n",
       "      <td>0</td>\n",
       "      <td>2909</td>\n",
       "      <td>34908</td>\n",
       "      <td>38747.88</td>\n",
       "      <td>2010</td>\n",
       "      <td>2011</td>\n",
       "      <td>11</td>\n",
       "    </tr>\n",
       "    <tr>\n",
       "      <th>4</th>\n",
       "      <td>27</td>\n",
       "      <td>Research &amp; Development</td>\n",
       "      <td>7</td>\n",
       "      <td>Male</td>\n",
       "      <td>1</td>\n",
       "      <td>Married</td>\n",
       "      <td>No</td>\n",
       "      <td>3</td>\n",
       "      <td>6</td>\n",
       "      <td>3</td>\n",
       "      <td>2</td>\n",
       "      <td>2</td>\n",
       "      <td>3468</td>\n",
       "      <td>41616</td>\n",
       "      <td>46609.92</td>\n",
       "      <td>2016</td>\n",
       "      <td>2016</td>\n",
       "      <td>12</td>\n",
       "    </tr>\n",
       "  </tbody>\n",
       "</table>\n",
       "</div>"
      ],
      "text/plain": [
       "   age              department  employee_number  gender  job_level  \\\n",
       "0   41                   Sales                1  Female          2   \n",
       "1   49  Research & Development                2    Male          2   \n",
       "2   37  Research & Development                4    Male          1   \n",
       "3   33  Research & Development                5  Female          1   \n",
       "4   27  Research & Development                7    Male          1   \n",
       "\n",
       "  marital_status over_time  performance_rating  totalW_working_years  \\\n",
       "0         Single       Yes                   3                     8   \n",
       "1        Married        No                   4                    10   \n",
       "2         Single       Yes                   3                     7   \n",
       "3        Married       Yes                   3                     8   \n",
       "4        Married        No                   3                     6   \n",
       "\n",
       "   training_times_last_year  years_since_last_promotion  \\\n",
       "0                         0                           0   \n",
       "1                         3                           1   \n",
       "2                         3                           0   \n",
       "3                         3                           3   \n",
       "4                         3                           2   \n",
       "\n",
       "   years_with_curr_manager  monthly_income  salary_2017  salary_2018  \\\n",
       "0                        5            5993        71916     79826.76   \n",
       "1                        7            5130        61560     75718.80   \n",
       "2                        0            2090        25080     28842.00   \n",
       "3                        0            2909        34908     38747.88   \n",
       "4                        2            3468        41616     46609.92   \n",
       "\n",
       "   year_of_joining  last_role_change  percent_hike  \n",
       "0             2012              2014            11  \n",
       "1             2008              2011            23  \n",
       "2             2018              2018            15  \n",
       "3             2010              2011            11  \n",
       "4             2016              2016            12  "
      ]
     },
     "execution_count": 2,
     "metadata": {},
     "output_type": "execute_result"
    }
   ],
   "source": [
    "df.head()"
   ]
  },
  {
   "cell_type": "code",
   "execution_count": 5,
   "id": "6f4338e3",
   "metadata": {},
   "outputs": [
    {
     "data": {
      "text/plain": [
       "15.209523809523809"
      ]
     },
     "execution_count": 5,
     "metadata": {},
     "output_type": "execute_result"
    }
   ],
   "source": [
    "df['percent_hike'].mean()"
   ]
  },
  {
   "cell_type": "code",
   "execution_count": 6,
   "id": "29f419b9",
   "metadata": {},
   "outputs": [
    {
     "data": {
      "text/plain": [
       "14.0"
      ]
     },
     "execution_count": 6,
     "metadata": {},
     "output_type": "execute_result"
    }
   ],
   "source": [
    "df['percent_hike'].median()"
   ]
  },
  {
   "cell_type": "code",
   "execution_count": 7,
   "id": "de434632",
   "metadata": {},
   "outputs": [
    {
     "data": {
      "text/plain": [
       "0    11\n",
       "dtype: int64"
      ]
     },
     "execution_count": 7,
     "metadata": {},
     "output_type": "execute_result"
    }
   ],
   "source": [
    "df['percent_hike'].mode()"
   ]
  },
  {
   "cell_type": "code",
   "execution_count": 8,
   "id": "906b71ca",
   "metadata": {},
   "outputs": [
    {
     "data": {
      "text/plain": [
       "11    210\n",
       "13    209\n",
       "14    201\n",
       "12    198\n",
       "15    101\n",
       "18     89\n",
       "17     82\n",
       "16     78\n",
       "19     76\n",
       "22     56\n",
       "20     55\n",
       "21     48\n",
       "23     28\n",
       "24     21\n",
       "25     18\n",
       "Name: percent_hike, dtype: int64"
      ]
     },
     "execution_count": 8,
     "metadata": {},
     "output_type": "execute_result"
    }
   ],
   "source": [
    "df['percent_hike'].value_counts()"
   ]
  },
  {
   "cell_type": "code",
   "execution_count": 9,
   "id": "52bfa57b",
   "metadata": {},
   "outputs": [
    {
     "data": {
      "text/plain": [
       "281883.48"
      ]
     },
     "execution_count": 9,
     "metadata": {},
     "output_type": "execute_result"
    }
   ],
   "source": [
    "df['salary_2018'].max()-df['salary_2018'].min()"
   ]
  },
  {
   "cell_type": "code",
   "execution_count": 11,
   "id": "16f61f73",
   "metadata": {},
   "outputs": [
    {
     "data": {
      "text/plain": [
       "74547.95999999999"
      ]
     },
     "execution_count": 11,
     "metadata": {},
     "output_type": "execute_result"
    }
   ],
   "source": [
    "#inter quartile range\n",
    "\n",
    "df['salary_2018'].quantile(0.75)-df['salary_2018'].quantile(0.25)"
   ]
  },
  {
   "cell_type": "code",
   "execution_count": 12,
   "id": "e782dd20",
   "metadata": {},
   "outputs": [
    {
     "data": {
      "text/plain": [
       "4228235835.265358"
      ]
     },
     "execution_count": 12,
     "metadata": {},
     "output_type": "execute_result"
    }
   ],
   "source": [
    "df['salary_2018'].var()"
   ]
  },
  {
   "cell_type": "code",
   "execution_count": 13,
   "id": "5f73a681",
   "metadata": {},
   "outputs": [
    {
     "data": {
      "text/plain": [
       "65024.88627645079"
      ]
     },
     "execution_count": 13,
     "metadata": {},
     "output_type": "execute_result"
    }
   ],
   "source": [
    "df['salary_2018'].std()"
   ]
  },
  {
   "cell_type": "code",
   "execution_count": 14,
   "id": "fb3866a9",
   "metadata": {},
   "outputs": [
    {
     "data": {
      "text/plain": [
       "<AxesSubplot:>"
      ]
     },
     "execution_count": 14,
     "metadata": {},
     "output_type": "execute_result"
    },
    {
     "data": {
      "image/png": "[encoded data removed]",
      "text/plain": [
       "<Figure size 432x288 with 1 Axes>"
      ]
     },
     "metadata": {
      "needs_background": "light"
     },
     "output_type": "display_data"
    }
   ],
   "source": [
    "df['salary_2018'].hist()"
   ]
  },
  {
   "cell_type": "code",
   "execution_count": null,
   "id": "b88435f6",
   "metadata": {},
   "outputs": [],
   "source": []
  }
 ],
 "metadata": {
  "kernelspec": {
   "display_name": "Python 3",
   "language": "python",
   "name": "python3"
  },
  "language_info": {
   "codemirror_mode": {
    "name": "ipython",
    "version": 3
   },
   "file_extension": ".py",
   "mimetype": "text/x-python",
   "name": "python",
   "nbconvert_exporter": "python",
   "pygments_lexer": "ipython3",
   "version": "3.8.8"
  }
 },
 "nbformat": 4,
 "nbformat_minor": 5
}
