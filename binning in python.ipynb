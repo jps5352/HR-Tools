{
 "cells": [
  {
   "cell_type": "code",
   "execution_count": 1,
   "metadata": {},
   "outputs": [],
   "source": [
    "import pandas as pd\n",
    "df= pd.read_excel('C://Skewness.xlsx')"
   ]
  },
  {
   "cell_type": "code",
   "execution_count": 2,
   "metadata": {},
   "outputs": [
    {
     "data": {
      "text/plain": [
       "0.00    18.0\n",
       "0.25    30.0\n",
       "0.50    35.5\n",
       "0.75    43.0\n",
       "1.00    60.0\n",
       "Name: age, dtype: float64"
      ]
     },
     "execution_count": 2,
     "metadata": {},
     "output_type": "execute_result"
    }
   ],
   "source": [
    "df['age'].quantile([.0,.25,.5,.75,1])"
   ]
  },
  {
   "cell_type": "code",
   "execution_count": 4,
   "metadata": {},
   "outputs": [],
   "source": [
    "bins=[18,30,35.5,43,60]"
   ]
  },
  {
   "cell_type": "code",
   "execution_count": 5,
   "metadata": {},
   "outputs": [
    {
     "data": {
      "text/plain": [
       "[18, 30, 35.5, 43, 60]"
      ]
     },
     "execution_count": 5,
     "metadata": {},
     "output_type": "execute_result"
    }
   ],
   "source": [
    "bins\n"
   ]
  },
  {
   "cell_type": "code",
   "execution_count": 7,
   "metadata": {},
   "outputs": [],
   "source": [
    "df['binned']=pd.cut(df['age'],bins)"
   ]
  },
  {
   "cell_type": "code",
   "execution_count": 8,
   "metadata": {},
   "outputs": [
    {
     "data": {
      "text/plain": [
       "0      (35.5, 43.0]\n",
       "1      (43.0, 60.0]\n",
       "2      (35.5, 43.0]\n",
       "3      (30.0, 35.5]\n",
       "4      (18.0, 30.0]\n",
       "5      (30.0, 35.5]\n",
       "6      (43.0, 60.0]\n",
       "7      (18.0, 30.0]\n",
       "8      (35.5, 43.0]\n",
       "9      (35.5, 43.0]\n",
       "10     (30.0, 35.5]\n",
       "11     (18.0, 30.0]\n",
       "12     (30.0, 35.5]\n",
       "13     (30.0, 35.5]\n",
       "14     (18.0, 30.0]\n",
       "15     (18.0, 30.0]\n",
       "16     (30.0, 35.5]\n",
       "17     (18.0, 30.0]\n",
       "18     (43.0, 60.0]\n",
       "19     (35.5, 43.0]\n",
       "20     (18.0, 30.0]\n",
       "21     (35.5, 43.0]\n",
       "22     (30.0, 35.5]\n",
       "23     (18.0, 30.0]\n",
       "24     (30.0, 35.5]\n",
       "25     (43.0, 60.0]\n",
       "26     (30.0, 35.5]\n",
       "27     (35.5, 43.0]\n",
       "28     (43.0, 60.0]\n",
       "29     (43.0, 60.0]\n",
       "           ...     \n",
       "656    (30.0, 35.5]\n",
       "657    (18.0, 30.0]\n",
       "658    (43.0, 60.0]\n",
       "659    (18.0, 30.0]\n",
       "660    (43.0, 60.0]\n",
       "661    (35.5, 43.0]\n",
       "662    (18.0, 30.0]\n",
       "663    (18.0, 30.0]\n",
       "664    (35.5, 43.0]\n",
       "665    (43.0, 60.0]\n",
       "666    (18.0, 30.0]\n",
       "667    (35.5, 43.0]\n",
       "668    (18.0, 30.0]\n",
       "669    (35.5, 43.0]\n",
       "670    (18.0, 30.0]\n",
       "671    (30.0, 35.5]\n",
       "672    (35.5, 43.0]\n",
       "673    (30.0, 35.5]\n",
       "674    (43.0, 60.0]\n",
       "675    (30.0, 35.5]\n",
       "676    (30.0, 35.5]\n",
       "677    (43.0, 60.0]\n",
       "678    (43.0, 60.0]\n",
       "679    (30.0, 35.5]\n",
       "680    (35.5, 43.0]\n",
       "681    (35.5, 43.0]\n",
       "682    (30.0, 35.5]\n",
       "683    (18.0, 30.0]\n",
       "684    (35.5, 43.0]\n",
       "685    (18.0, 30.0]\n",
       "Name: binned, Length: 686, dtype: category\n",
       "Categories (4, interval[float64]): [(18.0, 30.0] < (30.0, 35.5] < (35.5, 43.0] < (43.0, 60.0]]"
      ]
     },
     "execution_count": 8,
     "metadata": {},
     "output_type": "execute_result"
    }
   ],
   "source": [
    "df['binned']"
   ]
  },
  {
   "cell_type": "code",
   "execution_count": 9,
   "metadata": {},
   "outputs": [
    {
     "data": {
      "text/plain": [
       "(35.5, 43.0]    184\n",
       "(18.0, 30.0]    183\n",
       "(43.0, 60.0]    159\n",
       "(30.0, 35.5]    157\n",
       "Name: binned, dtype: int64"
      ]
     },
     "execution_count": 9,
     "metadata": {},
     "output_type": "execute_result"
    }
   ],
   "source": [
    "df['binned'].value_counts()"
   ]
  },
  {
   "cell_type": "code",
   "execution_count": 10,
   "metadata": {},
   "outputs": [
    {
     "data": {
      "text/plain": [
       "60"
      ]
     },
     "execution_count": 10,
     "metadata": {},
     "output_type": "execute_result"
    }
   ],
   "source": [
    "df['age'].max()"
   ]
  },
  {
   "cell_type": "code",
   "execution_count": 11,
   "metadata": {},
   "outputs": [
    {
     "data": {
      "text/plain": [
       "18"
      ]
     },
     "execution_count": 11,
     "metadata": {},
     "output_type": "execute_result"
    }
   ],
   "source": [
    "df['age'].min()"
   ]
  },
  {
   "cell_type": "code",
   "execution_count": 12,
   "metadata": {},
   "outputs": [],
   "source": [
    "bins=[18,32,46,60]\n",
    "df['binned1']=pd.cut(df['age'],bins)"
   ]
  },
  {
   "cell_type": "code",
   "execution_count": 13,
   "metadata": {},
   "outputs": [
    {
     "data": {
      "text/plain": [
       "(32, 46]    319\n",
       "(18, 32]    247\n",
       "(46, 60]    117\n",
       "Name: binned1, dtype: int64"
      ]
     },
     "execution_count": 13,
     "metadata": {},
     "output_type": "execute_result"
    }
   ],
   "source": [
    "df['binned1'].value_counts()"
   ]
  },
  {
   "cell_type": "code",
   "execution_count": 14,
   "metadata": {},
   "outputs": [],
   "source": [
    "bins=[18,25,35,45,60]\n",
    "df['binned2']=pd.cut(df['age'],bins)"
   ]
  },
  {
   "cell_type": "code",
   "execution_count": 15,
   "metadata": {},
   "outputs": [
    {
     "data": {
      "text/plain": [
       "(25, 35]    281\n",
       "(35, 45]    213\n",
       "(45, 60]    130\n",
       "(18, 25]     59\n",
       "Name: binned2, dtype: int64"
      ]
     },
     "execution_count": 15,
     "metadata": {},
     "output_type": "execute_result"
    }
   ],
   "source": [
    "df['binned2'].value_counts()"
   ]
  }
 ],
 "metadata": {
  "kernelspec": {
   "display_name": "Python 3",
   "language": "python",
   "name": "python3"
  },
  "language_info": {
   "codemirror_mode": {
    "name": "ipython",
    "version": 3
   },
   "file_extension": ".py",
   "mimetype": "text/x-python",
   "name": "python",
   "nbconvert_exporter": "python",
   "pygments_lexer": "ipython3",
   "version": "3.7.4"
  }
 },
 "nbformat": 4,
 "nbformat_minor": 2
}
