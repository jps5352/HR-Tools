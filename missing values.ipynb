{
 "cells": [
  {
   "cell_type": "code",
   "execution_count": 64,
   "metadata": {},
   "outputs": [],
   "source": [
    "import pandas as pd\n",
    "df= pd.read_excel('C:\\\\missing data.xlsx')"
   ]
  },
  {
   "cell_type": "code",
   "execution_count": 65,
   "metadata": {},
   "outputs": [
    {
     "data": {
      "text/plain": [
       "e_code                      0\n",
       "status                      0\n",
       "hire_date                   0\n",
       "service_agreement           0\n",
       "job_level                   0\n",
       "performance_rating_2018     0\n",
       "performance_rating_2017     0\n",
       "year_of_birth               0\n",
       "gender                      0\n",
       "distance_from_home          0\n",
       "manager_changes             0\n",
       "no_of_promotions            0\n",
       "risk_of_attrition          14\n",
       "potential_rating            0\n",
       "bonus                       0\n",
       "no_courses_taken            0\n",
       "time_in_position            0\n",
       "awards                      0\n",
       "signon                      0\n",
       "manager_sat                 0\n",
       "employee_sat               21\n",
       "salary_2017                 0\n",
       "salary_2018                 0\n",
       "dtype: int64"
      ]
     },
     "execution_count": 65,
     "metadata": {},
     "output_type": "execute_result"
    }
   ],
   "source": [
    "df.isna().sum()"
   ]
  },
  {
   "cell_type": "code",
   "execution_count": 66,
   "metadata": {},
   "outputs": [
    {
     "data": {
      "text/plain": [
       "e_code                     0.000000\n",
       "status                     0.000000\n",
       "hire_date                  0.000000\n",
       "service_agreement          0.000000\n",
       "job_level                  0.000000\n",
       "performance_rating_2018    0.000000\n",
       "performance_rating_2017    0.000000\n",
       "year_of_birth              0.000000\n",
       "gender                     0.000000\n",
       "distance_from_home         0.000000\n",
       "manager_changes            0.000000\n",
       "no_of_promotions           0.000000\n",
       "risk_of_attrition          2.083333\n",
       "potential_rating           0.000000\n",
       "bonus                      0.000000\n",
       "no_courses_taken           0.000000\n",
       "time_in_position           0.000000\n",
       "awards                     0.000000\n",
       "signon                     0.000000\n",
       "manager_sat                0.000000\n",
       "employee_sat               3.157895\n",
       "salary_2017                0.000000\n",
       "salary_2018                0.000000\n",
       "dtype: float64"
      ]
     },
     "execution_count": 66,
     "metadata": {},
     "output_type": "execute_result"
    }
   ],
   "source": [
    "df.isna().sum()/df.count()*100"
   ]
  },
  {
   "cell_type": "code",
   "execution_count": 67,
   "metadata": {},
   "outputs": [],
   "source": [
    "df1=df.dropna()"
   ]
  },
  {
   "cell_type": "code",
   "execution_count": 68,
   "metadata": {},
   "outputs": [
    {
     "data": {
      "text/plain": [
       "e_code                     0\n",
       "status                     0\n",
       "hire_date                  0\n",
       "service_agreement          0\n",
       "job_level                  0\n",
       "performance_rating_2018    0\n",
       "performance_rating_2017    0\n",
       "year_of_birth              0\n",
       "gender                     0\n",
       "distance_from_home         0\n",
       "manager_changes            0\n",
       "no_of_promotions           0\n",
       "risk_of_attrition          0\n",
       "potential_rating           0\n",
       "bonus                      0\n",
       "no_courses_taken           0\n",
       "time_in_position           0\n",
       "awards                     0\n",
       "signon                     0\n",
       "manager_sat                0\n",
       "employee_sat               0\n",
       "salary_2017                0\n",
       "salary_2018                0\n",
       "dtype: int64"
      ]
     },
     "execution_count": 68,
     "metadata": {},
     "output_type": "execute_result"
    }
   ],
   "source": [
    "df1.isna().sum()"
   ]
  },
  {
   "cell_type": "code",
   "execution_count": 69,
   "metadata": {},
   "outputs": [
    {
     "data": {
      "text/plain": [
       "0      80.0\n",
       "1      84.0\n",
       "2      93.0\n",
       "3      83.0\n",
       "4      80.0\n",
       "5      81.0\n",
       "6       0.0\n",
       "7       0.0\n",
       "8      71.0\n",
       "9      87.0\n",
       "10     80.0\n",
       "11     80.0\n",
       "12     74.0\n",
       "13     81.0\n",
       "14      0.0\n",
       "15     80.0\n",
       "16     80.0\n",
       "17     74.0\n",
       "18     73.0\n",
       "19     96.0\n",
       "20     82.0\n",
       "21      0.0\n",
       "22     80.0\n",
       "23     97.0\n",
       "24     80.0\n",
       "25     80.0\n",
       "26      0.0\n",
       "27     80.0\n",
       "28      0.0\n",
       "29     80.0\n",
       "       ... \n",
       "656    80.0\n",
       "657    80.0\n",
       "658    80.0\n",
       "659    80.0\n",
       "660    80.0\n",
       "661    84.0\n",
       "662    80.0\n",
       "663    83.0\n",
       "664    80.0\n",
       "665    80.0\n",
       "666    86.0\n",
       "667    78.0\n",
       "668    80.0\n",
       "669    80.0\n",
       "670    80.0\n",
       "671    80.0\n",
       "672    80.0\n",
       "673    80.0\n",
       "674    80.0\n",
       "675    80.0\n",
       "676    80.0\n",
       "677    80.0\n",
       "678    80.0\n",
       "679    80.0\n",
       "680    80.0\n",
       "681    80.0\n",
       "682    80.0\n",
       "683    80.0\n",
       "684    80.0\n",
       "685    80.0\n",
       "Name: employee_sat, Length: 686, dtype: float64"
      ]
     },
     "execution_count": 69,
     "metadata": {},
     "output_type": "execute_result"
    }
   ],
   "source": [
    "df1=df['employee_sat']\n",
    "df1=df1.fillna(0)\n",
    "df1\n"
   ]
  },
  {
   "cell_type": "code",
   "execution_count": 70,
   "metadata": {},
   "outputs": [
    {
     "data": {
      "text/plain": [
       "0"
      ]
     },
     "execution_count": 70,
     "metadata": {},
     "output_type": "execute_result"
    }
   ],
   "source": [
    "df1.isna().sum()"
   ]
  },
  {
   "cell_type": "code",
   "execution_count": null,
   "metadata": {},
   "outputs": [],
   "source": []
  },
  {
   "cell_type": "code",
   "execution_count": 71,
   "metadata": {},
   "outputs": [
    {
     "data": {
      "text/plain": [
       "0      80.000000\n",
       "1      84.000000\n",
       "2      93.000000\n",
       "3      83.000000\n",
       "4      80.000000\n",
       "5      81.000000\n",
       "6      81.178947\n",
       "7      81.178947\n",
       "8      71.000000\n",
       "9      87.000000\n",
       "10     80.000000\n",
       "11     80.000000\n",
       "12     74.000000\n",
       "13     81.000000\n",
       "14     81.178947\n",
       "15     80.000000\n",
       "16     80.000000\n",
       "17     74.000000\n",
       "18     73.000000\n",
       "19     96.000000\n",
       "20     82.000000\n",
       "21     81.178947\n",
       "22     80.000000\n",
       "23     97.000000\n",
       "24     80.000000\n",
       "25     80.000000\n",
       "26     81.178947\n",
       "27     80.000000\n",
       "28     81.178947\n",
       "29     80.000000\n",
       "         ...    \n",
       "656    80.000000\n",
       "657    80.000000\n",
       "658    80.000000\n",
       "659    80.000000\n",
       "660    80.000000\n",
       "661    84.000000\n",
       "662    80.000000\n",
       "663    83.000000\n",
       "664    80.000000\n",
       "665    80.000000\n",
       "666    86.000000\n",
       "667    78.000000\n",
       "668    80.000000\n",
       "669    80.000000\n",
       "670    80.000000\n",
       "671    80.000000\n",
       "672    80.000000\n",
       "673    80.000000\n",
       "674    80.000000\n",
       "675    80.000000\n",
       "676    80.000000\n",
       "677    80.000000\n",
       "678    80.000000\n",
       "679    80.000000\n",
       "680    80.000000\n",
       "681    80.000000\n",
       "682    80.000000\n",
       "683    80.000000\n",
       "684    80.000000\n",
       "685    80.000000\n",
       "Name: employee_sat, Length: 686, dtype: float64"
      ]
     },
     "execution_count": 71,
     "metadata": {},
     "output_type": "execute_result"
    }
   ],
   "source": [
    "df1=df['employee_sat']\n",
    "df1=df1.fillna(df1.mean())\n",
    "df1"
   ]
  },
  {
   "cell_type": "code",
   "execution_count": 72,
   "metadata": {},
   "outputs": [
    {
     "data": {
      "text/plain": [
       "0"
      ]
     },
     "execution_count": 72,
     "metadata": {},
     "output_type": "execute_result"
    }
   ],
   "source": [
    "df1.isna().sum()"
   ]
  },
  {
   "cell_type": "code",
   "execution_count": 73,
   "metadata": {},
   "outputs": [
    {
     "data": {
      "text/plain": [
       "0      80.0\n",
       "1      84.0\n",
       "2      93.0\n",
       "3      83.0\n",
       "4      80.0\n",
       "5      81.0\n",
       "6      80.0\n",
       "7      80.0\n",
       "8      71.0\n",
       "9      87.0\n",
       "10     80.0\n",
       "11     80.0\n",
       "12     74.0\n",
       "13     81.0\n",
       "14     80.0\n",
       "15     80.0\n",
       "16     80.0\n",
       "17     74.0\n",
       "18     73.0\n",
       "19     96.0\n",
       "20     82.0\n",
       "21     80.0\n",
       "22     80.0\n",
       "23     97.0\n",
       "24     80.0\n",
       "25     80.0\n",
       "26     80.0\n",
       "27     80.0\n",
       "28     80.0\n",
       "29     80.0\n",
       "       ... \n",
       "656    80.0\n",
       "657    80.0\n",
       "658    80.0\n",
       "659    80.0\n",
       "660    80.0\n",
       "661    84.0\n",
       "662    80.0\n",
       "663    83.0\n",
       "664    80.0\n",
       "665    80.0\n",
       "666    86.0\n",
       "667    78.0\n",
       "668    80.0\n",
       "669    80.0\n",
       "670    80.0\n",
       "671    80.0\n",
       "672    80.0\n",
       "673    80.0\n",
       "674    80.0\n",
       "675    80.0\n",
       "676    80.0\n",
       "677    80.0\n",
       "678    80.0\n",
       "679    80.0\n",
       "680    80.0\n",
       "681    80.0\n",
       "682    80.0\n",
       "683    80.0\n",
       "684    80.0\n",
       "685    80.0\n",
       "Name: employee_sat, Length: 686, dtype: float64"
      ]
     },
     "execution_count": 73,
     "metadata": {},
     "output_type": "execute_result"
    }
   ],
   "source": [
    "df1=df['employee_sat']\n",
    "df1=df1.fillna(df1.median())\n",
    "df1"
   ]
  },
  {
   "cell_type": "code",
   "execution_count": 74,
   "metadata": {},
   "outputs": [
    {
     "data": {
      "text/plain": [
       "0"
      ]
     },
     "execution_count": 74,
     "metadata": {},
     "output_type": "execute_result"
    }
   ],
   "source": [
    "df1.isna().sum()"
   ]
  },
  {
   "cell_type": "code",
   "execution_count": 75,
   "metadata": {},
   "outputs": [
    {
     "data": {
      "text/plain": [
       "80.0     403\n",
       "74.0      16\n",
       "85.0      14\n",
       "86.0      13\n",
       "87.0      13\n",
       "83.0      13\n",
       "76.0      13\n",
       "73.0      12\n",
       "81.0      12\n",
       "78.0      12\n",
       "89.0      12\n",
       "88.0      11\n",
       "92.0      11\n",
       "77.0      11\n",
       "82.0      11\n",
       "91.0       9\n",
       "90.0       9\n",
       "79.0       8\n",
       "72.0       8\n",
       "75.0       7\n",
       "84.0       7\n",
       "71.0       6\n",
       "93.0       6\n",
       "70.0       6\n",
       "94.0       6\n",
       "100.0      4\n",
       "95.0       4\n",
       "96.0       3\n",
       "97.0       3\n",
       "98.0       2\n",
       "Name: employee_sat, dtype: int64"
      ]
     },
     "execution_count": 75,
     "metadata": {},
     "output_type": "execute_result"
    }
   ],
   "source": [
    "df1=df['employee_sat']\n",
    "df1.value_counts()"
   ]
  },
  {
   "cell_type": "code",
   "execution_count": 76,
   "metadata": {},
   "outputs": [],
   "source": [
    "df1=df1.fillna(80)"
   ]
  },
  {
   "cell_type": "code",
   "execution_count": 77,
   "metadata": {},
   "outputs": [
    {
     "data": {
      "text/plain": [
       "0"
      ]
     },
     "execution_count": 77,
     "metadata": {},
     "output_type": "execute_result"
    }
   ],
   "source": [
    "df1.isna().sum()"
   ]
  },
  {
   "cell_type": "code",
   "execution_count": 79,
   "metadata": {},
   "outputs": [
    {
     "data": {
      "text/plain": [
       "LOW          642\n",
       "MEDIUM        19\n",
       "VERY HIGH      8\n",
       "HIGH           3\n",
       "Name: risk_of_attrition, dtype: int64"
      ]
     },
     "execution_count": 79,
     "metadata": {},
     "output_type": "execute_result"
    }
   ],
   "source": [
    "df1=df\n",
    "df1['risk_of_attrition'].value_counts()"
   ]
  },
  {
   "cell_type": "code",
   "execution_count": 84,
   "metadata": {},
   "outputs": [],
   "source": [
    "df2=df1['risk_of_attrition'].fillna(\"LOW\")"
   ]
  },
  {
   "cell_type": "code",
   "execution_count": 85,
   "metadata": {},
   "outputs": [
    {
     "data": {
      "text/plain": [
       "0"
      ]
     },
     "execution_count": 85,
     "metadata": {},
     "output_type": "execute_result"
    }
   ],
   "source": [
    "df2.isna().sum()"
   ]
  }
 ],
 "metadata": {
  "kernelspec": {
   "display_name": "Python 3",
   "language": "python",
   "name": "python3"
  },
  "language_info": {
   "codemirror_mode": {
    "name": "ipython",
    "version": 3
   },
   "file_extension": ".py",
   "mimetype": "text/x-python",
   "name": "python",
   "nbconvert_exporter": "python",
   "pygments_lexer": "ipython3",
   "version": "3.7.4"
  }
 },
 "nbformat": 4,
 "nbformat_minor": 2
}
