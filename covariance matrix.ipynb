{
 "cells": [
  {
   "cell_type": "code",
   "execution_count": 2,
   "metadata": {},
   "outputs": [],
   "source": [
    "import pandas as pd\n",
    "df= pd.read_excel('C:\\\\mean median mode.xlsx')"
   ]
  },
  {
   "cell_type": "code",
   "execution_count": 3,
   "metadata": {},
   "outputs": [],
   "source": [
    "df1=df[['age','salary_2018','totalW_working_years','percent_hike']]"
   ]
  },
  {
   "cell_type": "code",
   "execution_count": 4,
   "metadata": {},
   "outputs": [
    {
     "data": {
      "text/html": [
       "<div>\n",
       "<style scoped>\n",
       "    .dataframe tbody tr th:only-of-type {\n",
       "        vertical-align: middle;\n",
       "    }\n",
       "\n",
       "    .dataframe tbody tr th {\n",
       "        vertical-align: top;\n",
       "    }\n",
       "\n",
       "    .dataframe thead th {\n",
       "        text-align: right;\n",
       "    }\n",
       "</style>\n",
       "<table border=\"1\" class=\"dataframe\">\n",
       "  <thead>\n",
       "    <tr style=\"text-align: right;\">\n",
       "      <th></th>\n",
       "      <th>age</th>\n",
       "      <th>salary_2018</th>\n",
       "      <th>totalW_working_years</th>\n",
       "      <th>percent_hike</th>\n",
       "    </tr>\n",
       "  </thead>\n",
       "  <tbody>\n",
       "    <tr>\n",
       "      <td>age</td>\n",
       "      <td>83.455049</td>\n",
       "      <td>2.955225e+05</td>\n",
       "      <td>48.361684</td>\n",
       "      <td>0.121489</td>\n",
       "    </tr>\n",
       "    <tr>\n",
       "      <td>salary_2018</td>\n",
       "      <td>295522.515203</td>\n",
       "      <td>4.228236e+09</td>\n",
       "      <td>390642.907508</td>\n",
       "      <td>4118.884438</td>\n",
       "    </tr>\n",
       "    <tr>\n",
       "      <td>totalW_working_years</td>\n",
       "      <td>48.361684</td>\n",
       "      <td>3.906429e+05</td>\n",
       "      <td>60.540563</td>\n",
       "      <td>-0.586872</td>\n",
       "    </tr>\n",
       "    <tr>\n",
       "      <td>percent_hike</td>\n",
       "      <td>0.121489</td>\n",
       "      <td>4.118884e+03</td>\n",
       "      <td>-0.586872</td>\n",
       "      <td>13.395144</td>\n",
       "    </tr>\n",
       "  </tbody>\n",
       "</table>\n",
       "</div>"
      ],
      "text/plain": [
       "                                age   salary_2018  totalW_working_years  \\\n",
       "age                       83.455049  2.955225e+05             48.361684   \n",
       "salary_2018           295522.515203  4.228236e+09         390642.907508   \n",
       "totalW_working_years      48.361684  3.906429e+05             60.540563   \n",
       "percent_hike               0.121489  4.118884e+03             -0.586872   \n",
       "\n",
       "                      percent_hike  \n",
       "age                       0.121489  \n",
       "salary_2018            4118.884438  \n",
       "totalW_working_years     -0.586872  \n",
       "percent_hike             13.395144  "
      ]
     },
     "execution_count": 4,
     "metadata": {},
     "output_type": "execute_result"
    }
   ],
   "source": [
    "df1.cov()"
   ]
  },
  {
   "cell_type": "code",
   "execution_count": null,
   "metadata": {},
   "outputs": [],
   "source": []
  }
 ],
 "metadata": {
  "kernelspec": {
   "display_name": "Python 3",
   "language": "python",
   "name": "python3"
  },
  "language_info": {
   "codemirror_mode": {
    "name": "ipython",
    "version": 3
   },
   "file_extension": ".py",
   "mimetype": "text/x-python",
   "name": "python",
   "nbconvert_exporter": "python",
   "pygments_lexer": "ipython3",
   "version": "3.7.4"
  }
 },
 "nbformat": 4,
 "nbformat_minor": 2
}
