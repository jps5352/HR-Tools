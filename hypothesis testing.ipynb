{
 "cells": [
  {
   "cell_type": "code",
   "execution_count": 11,
   "metadata": {},
   "outputs": [],
   "source": [
    "import pandas as pd\n",
    "df= pd.read_excel('C:\\\\HYPOTHESIS TESTING.xlsx')\n",
    "df1= pd.read_excel('C:\\\\HYPOTHESIS TESTING 1.xlsx')"
   ]
  },
  {
   "cell_type": "code",
   "execution_count": 2,
   "metadata": {},
   "outputs": [
    {
     "name": "stdout",
     "output_type": "stream",
     "text": [
      "10.16024561522808\n"
     ]
    },
    {
     "data": {
      "text/plain": [
       "2.2979020203155957e-11"
      ]
     },
     "execution_count": 2,
     "metadata": {},
     "output_type": "execute_result"
    }
   ],
   "source": [
    "# step 1 : Formulating hypothesis\n",
    "# H0: hiring score for college b is less than equal to 3.9\n",
    "# HA: hiring score for college b is greater than 3.9\n",
    "\n",
    "# step 2 : Choosing the test\n",
    "# one sample t-test\n",
    "\n",
    "# step 3 : Choosing significance level\n",
    "# 0.05\n",
    "\n",
    "# step 4 : Apply the test and find p-value\n",
    "import scipy.stats as sp\n",
    "r=sp.ttest_1samp(df1.hiring_score,3.9)\n",
    "# step 5 : compare p-value and the significance level\n",
    "print(r[0])\n",
    "r[1]/2\n",
    "# conclusion : As p-value is less than 0.05 we reject the null and accept the alternate  hypothesis"
   ]
  },
  {
   "cell_type": "code",
   "execution_count": 3,
   "metadata": {},
   "outputs": [
    {
     "name": "stdout",
     "output_type": "stream",
     "text": [
      "27.37448237935423\n"
     ]
    },
    {
     "data": {
      "text/plain": [
       "7.194835316061746e-108"
      ]
     },
     "execution_count": 3,
     "metadata": {},
     "output_type": "execute_result"
    }
   ],
   "source": [
    "# step 1 : Formulating hypothesis\n",
    "# H0: productivity after training is less than equal to productivity before training\n",
    "# HA: productivity after training is greater than productivity before training\n",
    "\n",
    "# step 2 : Choosing the test\n",
    "# paired t-test\n",
    "\n",
    "# step 3 : Choosing significance level\n",
    "# 0.05\n",
    "\n",
    "# step 4 : Apply the test and find p-value\n",
    "r=sp.ttest_rel(df['productivity_after_training'],df['productivity_before_training'])\n",
    "print(r[0])\n",
    "r[1]/2\n",
    "# step 5 : compare p-value and the significance level\n",
    "\n",
    "# conclusion : As p-value is less than 0.05 we reject the null and accept the alternate  hypothesis"
   ]
  },
  {
   "cell_type": "code",
   "execution_count": 12,
   "metadata": {},
   "outputs": [
    {
     "data": {
      "text/plain": [
       "(1.6572558301428084, 0.19797424382119203, 1, array([[ 66.360601,  92.639399],\n",
       "        [183.639399, 256.360601]]))"
      ]
     },
     "execution_count": 12,
     "metadata": {},
     "output_type": "execute_result"
    }
   ],
   "source": [
    "# step 1 : Formulating hypothesis\n",
    "# H0: employee gender and hiring manager gender are independent\n",
    "# HA: employee gender and hiring manager gender are dependent\n",
    "\n",
    "# step 2 : Choosing the test\n",
    "# Chi-Square\n",
    "\n",
    "# step 3 : Choosing significance level\n",
    "# 0.05\n",
    "\n",
    "# step 4 : Apply the test and find p-value\n",
    "table = pd.crosstab(df['employee_gender'], df['hiring_manager_gender'])\n",
    "sp.chi2_contingency(table)\n",
    "# step 5 : compare p-value and the significance level\n",
    "\n",
    "# conclusion : As p-value is greater than 0.05 we accept the null hypothesis"
   ]
  },
  {
   "cell_type": "code",
   "execution_count": 18,
   "metadata": {},
   "outputs": [
    {
     "name": "stdout",
     "output_type": "stream",
     "text": [
      "{'Human Resources': Int64Index([ 79, 100, 105, 112, 134, 139, 232, 310, 350, 422, 440, 453, 477,\n",
      "            493, 510, 535, 538, 551],\n",
      "           dtype='int64'), 'Research & Development': Int64Index([  1,   2,   3,   4,   5,   6,   7,   8,   9,  10,\n",
      "            ...\n",
      "            588, 589, 590, 592, 593, 594, 595, 596, 597, 598],\n",
      "           dtype='int64', length=398), 'Sales': Int64Index([  0,  18,  21,  27,  29,  33,  36,  37,  39,  43,\n",
      "            ...\n",
      "            563, 564, 566, 567, 569, 573, 576, 580, 583, 591],\n",
      "           dtype='int64', length=183)}\n"
     ]
    }
   ],
   "source": [
    "# step 1 : Formulating hypothesis\n",
    "# H0: years since last promotion and department are independent\n",
    "# HA: years since last promotion and department are dependent\n",
    "\n",
    "# step 2 : Choosing the test\n",
    "# Anova\n",
    "\n",
    "# step 3 : Choosing significance level\n",
    "# 0.05\n",
    "\n",
    "# step 4 : Apply the test and find p-value\n",
    "groups = df.groupby(\"Department\").groups\n",
    "print(groups)\n"
   ]
  },
  {
   "cell_type": "code",
   "execution_count": 19,
   "metadata": {},
   "outputs": [
    {
     "name": "stdout",
     "output_type": "stream",
     "text": [
      "79      0\n",
      "100     0\n",
      "105     2\n",
      "112     4\n",
      "134     5\n",
      "139     4\n",
      "232     2\n",
      "310     1\n",
      "350     1\n",
      "422     0\n",
      "440     0\n",
      "453     1\n",
      "477    10\n",
      "493     0\n",
      "510     7\n",
      "535    12\n",
      "538     2\n",
      "551     3\n",
      "Name: yrs_since_last_promotion, dtype: int64\n"
     ]
    }
   ],
   "source": [
    "# Extract individual groups\n",
    "HR = df.yrs_since_last_promotion[groups[\"Human Resources\"]]\n",
    "S = df.yrs_since_last_promotion[groups[\"Sales\"]]\n",
    "RD = df.yrs_since_last_promotion[groups[\"Research & Development\"]]\n",
    "print(HR)"
   ]
  },
  {
   "cell_type": "code",
   "execution_count": 20,
   "metadata": {},
   "outputs": [
    {
     "data": {
      "text/plain": [
       "F_onewayResult(statistic=0.7346134416339346, pvalue=0.48012467830275873)"
      ]
     },
     "execution_count": 20,
     "metadata": {},
     "output_type": "execute_result"
    }
   ],
   "source": [
    "sp.f_oneway(HR, S, RD)\n",
    "# step 5 : compare p-value and the significance level\n",
    "\n",
    "# conclusion : As p-value is greater than 0.05 we accept the null hypothesis"
   ]
  }
 ],
 "metadata": {
  "kernelspec": {
   "display_name": "Python 3",
   "language": "python",
   "name": "python3"
  },
  "language_info": {
   "codemirror_mode": {
    "name": "ipython",
    "version": 3
   },
   "file_extension": ".py",
   "mimetype": "text/x-python",
   "name": "python",
   "nbconvert_exporter": "python",
   "pygments_lexer": "ipython3",
   "version": "3.7.4"
  }
 },
 "nbformat": 4,
 "nbformat_minor": 2
}
